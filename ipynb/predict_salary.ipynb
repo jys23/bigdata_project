{
  "nbformat": 4,
  "nbformat_minor": 0,
  "metadata": {
    "colab": {
      "provenance": []
    },
    "kernelspec": {
      "name": "python3",
      "display_name": "Python 3"
    },
    "language_info": {
      "name": "python"
    }
  },
  "cells": [
    {
      "cell_type": "code",
      "execution_count": null,
      "metadata": {
        "colab": {
          "base_uri": "https://localhost:8080/"
        },
        "id": "iUsyjyzna9BY",
        "outputId": "f443b203-e643-4c97-a992-a0cb6ede5c42"
      },
      "outputs": [
        {
          "output_type": "stream",
          "name": "stdout",
          "text": [
            "24/24 [==============================] - 0s 2ms/step\n",
            "   index  Unnamed: 0            PLAYER  Pos  GP   G   A  PTS    PS  EV  ...  \\\n",
            "0      0           0    Connor McDavid    0  82  64  89  153  18.2  39  ...   \n",
            "1      1           1    Leon Draisaitl    0  80  52  76  128  14.2  19  ...   \n",
            "2      2           2   Nikita Kucherov    0  82  30  83  113  10.7  22  ...   \n",
            "3      3           3  Nathan MacKinnon    0  71  42  69  111  13.1  30  ...   \n",
            "4      4           4   Jason Robertson    0  82  46  63  109  13.9  33  ...   \n",
            "\n",
            "    ATOI  BLK  HIT  FOW  FOL    FO%   CAP HIT  exchange cap  predict salary  \\\n",
            "0  22:23   40   89  525  486   51.9  12500000    11750000.0      11561605.0   \n",
            "1  21:44   40   66  807  663   54.9   8500000     7750000.0      10208779.0   \n",
            "2  20:08   28   61    2    0  100.0   9500000     8750000.0       9927170.0   \n",
            "3  22:19   40   53  519  649   44.4   6300000     5550000.0      11472997.0   \n",
            "4  18:50   19   57    0    1    0.0   7750000     7000000.0       7366381.5   \n",
            "\n",
            "  performance score  \n",
            "0          0.983966  \n",
            "1          1.317262  \n",
            "2          1.134534  \n",
            "3          2.067207  \n",
            "4          1.052340  \n",
            "\n",
            "[5 rows x 29 columns]\n"
          ]
        }
      ],
      "source": [
        "from keras.models import load_model\n",
        "import pandas as pd\n",
        "import numpy as np\n",
        "model = load_model('/content/Salary.hdf5')\n",
        "\n",
        "cols_train = ['Pos', 'GP', 'G', 'A', 'PTS', 'PS', 'EV', 'PPG', 'SHG', 'GW', 'EVA', 'PPA', 'SHA', 'S', 'TOI']\n",
        "\n",
        "df = pd.read_csv('/content/2022_merge.csv')\n",
        "\n",
        "for i in range(0, len(df)):\n",
        "    if df.loc[i, 'Pos'] in ['C', 'RW', 'LW']:\n",
        "      df.loc[i, 'Pos'] = 0\n",
        "    else:\n",
        "      df.loc[i, 'Pos'] = 1\n",
        "    if df.loc[i, 'exchange cap'] <= 0:\n",
        "      df.drop(i, inplace=True)\n",
        "\n",
        "df['Pos'] = np.asarray(df['Pos']).astype(np.int64)\n",
        "df = df.reset_index()\n",
        "\n",
        "ndf = df.loc[:, cols_train]\n",
        "df['predict salary'] = model.predict(ndf)\n",
        "\n",
        "df['performance score'] = df['predict salary'] / df['exchange cap']\n",
        "\n",
        "print(df.head())\n",
        "\n",
        "df.to_csv('2022_calc.csv')"
      ]
    }
  ]
}